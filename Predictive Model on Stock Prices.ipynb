{
 "cells": [
  {
   "cell_type": "code",
   "execution_count": 5,
   "metadata": {},
   "outputs": [],
   "source": [
    "import numpy as np\n",
    "import pandas as pd\n",
    "import matplotlib.pyplot as plt\n",
    "from sklearn.svm import SVR\n",
    "\n",
    "%matplotlib inline"
   ]
  },
  {
   "cell_type": "code",
   "execution_count": 6,
   "metadata": {},
   "outputs": [],
   "source": [
    "df = pd.read_csv(\"AAPL.csv\")"
   ]
  },
  {
   "cell_type": "code",
   "execution_count": 7,
   "metadata": {},
   "outputs": [
    {
     "data": {
      "text/html": [
       "<div>\n",
       "<style scoped>\n",
       "    .dataframe tbody tr th:only-of-type {\n",
       "        vertical-align: middle;\n",
       "    }\n",
       "\n",
       "    .dataframe tbody tr th {\n",
       "        vertical-align: top;\n",
       "    }\n",
       "\n",
       "    .dataframe thead th {\n",
       "        text-align: right;\n",
       "    }\n",
       "</style>\n",
       "<table border=\"1\" class=\"dataframe\">\n",
       "  <thead>\n",
       "    <tr style=\"text-align: right;\">\n",
       "      <th></th>\n",
       "      <th>Date</th>\n",
       "      <th>Open</th>\n",
       "      <th>High</th>\n",
       "      <th>Low</th>\n",
       "      <th>Close</th>\n",
       "      <th>Adj Close</th>\n",
       "      <th>Volume</th>\n",
       "    </tr>\n",
       "  </thead>\n",
       "  <tbody>\n",
       "    <tr>\n",
       "      <th>0</th>\n",
       "      <td>2018-10-08</td>\n",
       "      <td>222.210007</td>\n",
       "      <td>224.800003</td>\n",
       "      <td>220.199997</td>\n",
       "      <td>223.770004</td>\n",
       "      <td>223.770004</td>\n",
       "      <td>29663900</td>\n",
       "    </tr>\n",
       "    <tr>\n",
       "      <th>1</th>\n",
       "      <td>2018-10-09</td>\n",
       "      <td>223.639999</td>\n",
       "      <td>227.270004</td>\n",
       "      <td>222.250000</td>\n",
       "      <td>226.869995</td>\n",
       "      <td>226.869995</td>\n",
       "      <td>26891000</td>\n",
       "    </tr>\n",
       "    <tr>\n",
       "      <th>2</th>\n",
       "      <td>2018-10-10</td>\n",
       "      <td>225.460007</td>\n",
       "      <td>226.350006</td>\n",
       "      <td>216.050003</td>\n",
       "      <td>216.360001</td>\n",
       "      <td>216.360001</td>\n",
       "      <td>41990600</td>\n",
       "    </tr>\n",
       "    <tr>\n",
       "      <th>3</th>\n",
       "      <td>2018-10-11</td>\n",
       "      <td>214.520004</td>\n",
       "      <td>219.500000</td>\n",
       "      <td>212.320007</td>\n",
       "      <td>214.449997</td>\n",
       "      <td>214.449997</td>\n",
       "      <td>53124400</td>\n",
       "    </tr>\n",
       "    <tr>\n",
       "      <th>4</th>\n",
       "      <td>2018-10-12</td>\n",
       "      <td>220.419998</td>\n",
       "      <td>222.880005</td>\n",
       "      <td>216.839996</td>\n",
       "      <td>222.110001</td>\n",
       "      <td>222.110001</td>\n",
       "      <td>40337900</td>\n",
       "    </tr>\n",
       "  </tbody>\n",
       "</table>\n",
       "</div>"
      ],
      "text/plain": [
       "         Date        Open        High         Low       Close   Adj Close  \\\n",
       "0  2018-10-08  222.210007  224.800003  220.199997  223.770004  223.770004   \n",
       "1  2018-10-09  223.639999  227.270004  222.250000  226.869995  226.869995   \n",
       "2  2018-10-10  225.460007  226.350006  216.050003  216.360001  216.360001   \n",
       "3  2018-10-11  214.520004  219.500000  212.320007  214.449997  214.449997   \n",
       "4  2018-10-12  220.419998  222.880005  216.839996  222.110001  222.110001   \n",
       "\n",
       "     Volume  \n",
       "0  29663900  \n",
       "1  26891000  \n",
       "2  41990600  \n",
       "3  53124400  \n",
       "4  40337900  "
      ]
     },
     "execution_count": 7,
     "metadata": {},
     "output_type": "execute_result"
    }
   ],
   "source": [
    "df.head()"
   ]
  },
  {
   "cell_type": "code",
   "execution_count": 9,
   "metadata": {},
   "outputs": [],
   "source": [
    "dates = df['Date']\n",
    "prices = df['Open']"
   ]
  },
  {
   "cell_type": "code",
   "execution_count": 13,
   "metadata": {},
   "outputs": [],
   "source": [
    "date_list = dates.tolist()\n",
    "price_list = prices.tolist()"
   ]
  },
  {
   "cell_type": "code",
   "execution_count": 21,
   "metadata": {},
   "outputs": [],
   "source": [
    "#Get the day from the date and set to an integer\n",
    "day = []\n",
    "for row in date_list:\n",
    "    day.append(int(row.split('-')[-1]))"
   ]
  },
  {
   "cell_type": "code",
   "execution_count": 25,
   "metadata": {},
   "outputs": [
    {
     "name": "stdout",
     "output_type": "stream",
     "text": [
      "[8, 9, 10, 11, 12, 15, 16, 17, 18, 19, 22, 23, 24, 25, 26, 29, 30, 31, 1, 2, 5, 6]\n",
      "[222.210007, 223.63999900000002, 225.460007, 214.520004, 220.419998, 221.16000400000001, 218.92999300000002, 222.30000299999998, 217.86000099999998, 218.059998, 219.789993, 215.830002, 222.600006, 217.710007, 215.899994, 219.190002, 211.149994, 216.88000499999998, 219.05000299999998, 209.550003, 204.300003, 201.919998]\n"
     ]
    }
   ],
   "source": [
    "print(day)\n",
    "print(price_list)"
   ]
  },
  {
   "cell_type": "code",
   "execution_count": 26,
   "metadata": {},
   "outputs": [],
   "source": [
    "#resize day to a 1-d array\n",
    "day = np.reshape(day, (len(day), 1))"
   ]
  },
  {
   "cell_type": "code",
   "execution_count": 27,
   "metadata": {},
   "outputs": [
    {
     "data": {
      "text/plain": [
       "array([[ 8],\n",
       "       [ 9],\n",
       "       [10],\n",
       "       [11],\n",
       "       [12],\n",
       "       [15],\n",
       "       [16],\n",
       "       [17],\n",
       "       [18],\n",
       "       [19],\n",
       "       [22],\n",
       "       [23],\n",
       "       [24],\n",
       "       [25],\n",
       "       [26],\n",
       "       [29],\n",
       "       [30],\n",
       "       [31],\n",
       "       [ 1],\n",
       "       [ 2],\n",
       "       [ 5],\n",
       "       [ 6]])"
      ]
     },
     "execution_count": 27,
     "metadata": {},
     "output_type": "execute_result"
    }
   ],
   "source": [
    "day"
   ]
  },
  {
   "cell_type": "code",
   "execution_count": 28,
   "metadata": {},
   "outputs": [
    {
     "data": {
      "text/plain": [
       "SVR(C=1000.0, cache_size=200, coef0=0.0, degree=3, epsilon=0.1, gamma=0.1,\n",
       "  kernel='rbf', max_iter=-1, shrinking=True, tol=0.001, verbose=False)"
      ]
     },
     "execution_count": 28,
     "metadata": {},
     "output_type": "execute_result"
    }
   ],
   "source": [
    "#build different regression models with SVM\n",
    "\n",
    "svr_len = SVR(kernel='linear', C=1e3)\n",
    "svr_poly = SVR(kernel='poly', C=1e3, degree=2)\n",
    "svr_rbf = SVR(kernel='rbf', C=1e3, gamma=0.1)\n",
    "\n",
    "svr_len.fit(day,price_list)\n",
    "svr_poly.fit(day,price_list)\n",
    "svr_rbf.fit(day,price_list)"
   ]
  },
  {
   "cell_type": "code",
   "execution_count": 29,
   "metadata": {},
   "outputs": [
    {
     "data": {
      "image/png": "[encoded data removed]",
      "text/plain": [
       "<Figure size 432x288 with 1 Axes>"
      ]
     },
     "metadata": {},
     "output_type": "display_data"
    }
   ],
   "source": [
    "#plot the graph with the different models\n",
    "\n",
    "plt.scatter(day, price_list, color='black', label='Data' )\n",
    "plt.plot(day, svr_len.predict(day), color='green', label='linear model')\n",
    "plt.plot(day, svr_poly.predict(day), color='blue', label='polynomial model')\n",
    "plt.plot(day, svr_rbf.predict(day), color='red', label='RBF model')\n",
    "\n",
    "plt.xlabel('Date')\n",
    "plt.ylabel('Price')\n",
    "plt.title('Support Vector Regression')\n",
    "plt.legend()\n",
    "plt.show()"
   ]
  },
  {
   "cell_type": "code",
   "execution_count": null,
   "metadata": {},
   "outputs": [],
   "source": []
  }
 ],
 "metadata": {
  "kernelspec": {
   "display_name": "Python 3",
   "language": "python",
   "name": "python3"
  },
  "language_info": {
   "codemirror_mode": {
    "name": "ipython",
    "version": 3
   },
   "file_extension": ".py",
   "mimetype": "text/x-python",
   "name": "python",
   "nbconvert_exporter": "python",
   "pygments_lexer": "ipython3",
   "version": "3.6.5"
  }
 },
 "nbformat": 4,
 "nbformat_minor": 2
}
