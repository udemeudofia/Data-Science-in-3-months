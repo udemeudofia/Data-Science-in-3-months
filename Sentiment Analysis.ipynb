{
 "cells": [
  {
   "cell_type": "code",
   "execution_count": 48,
   "metadata": {},
   "outputs": [],
   "source": [
    "import tweepy\n",
    "from textblob import TextBlob\n",
    "import nltk\n",
    "import numpy as np\n",
    "import pandas as pd\n",
    "#nltk.download('punkt')\n",
    "#nltk.download('averaged_perceptron_tagger')"
   ]
  },
  {
   "cell_type": "code",
   "execution_count": 14,
   "metadata": {},
   "outputs": [],
   "source": [
    "wiki = TextBlob(\"Udeme is very naughty that he does not pay attention to the things that will make him a better person\")"
   ]
  },
  {
   "cell_type": "code",
   "execution_count": 20,
   "metadata": {},
   "outputs": [],
   "source": [
    "gog = TextBlob(\"He is a very handsome and nice fellow. I really love him.\")"
   ]
  },
  {
   "cell_type": "code",
   "execution_count": 29,
   "metadata": {},
   "outputs": [
    {
     "data": {
      "text/plain": [
       "[('Udeme', 'NN'),\n",
       " ('is', 'VBZ'),\n",
       " ('very', 'RB'),\n",
       " ('naughty', 'JJ'),\n",
       " ('that', 'IN'),\n",
       " ('he', 'PRP'),\n",
       " ('does', 'VBZ'),\n",
       " ('not', 'RB'),\n",
       " ('pay', 'VB'),\n",
       " ('attention', 'NN'),\n",
       " ('to', 'TO'),\n",
       " ('the', 'DT'),\n",
       " ('things', 'NNS'),\n",
       " ('that', 'WDT'),\n",
       " ('will', 'MD'),\n",
       " ('make', 'VB'),\n",
       " ('him', 'PRP'),\n",
       " ('a', 'DT'),\n",
       " ('better', 'JJR'),\n",
       " ('person', 'NN')]"
      ]
     },
     "execution_count": 29,
     "metadata": {},
     "output_type": "execute_result"
    }
   ],
   "source": [
    "wiki.tags"
   ]
  },
  {
   "cell_type": "code",
   "execution_count": 30,
   "metadata": {},
   "outputs": [
    {
     "data": {
      "text/plain": [
       "[('He', 'PRP'),\n",
       " ('is', 'VBZ'),\n",
       " ('a', 'DT'),\n",
       " ('very', 'RB'),\n",
       " ('handsome', 'JJ'),\n",
       " ('and', 'CC'),\n",
       " ('nice', 'JJ'),\n",
       " ('fellow', 'NN'),\n",
       " ('I', 'PRP'),\n",
       " ('really', 'RB'),\n",
       " ('love', 'VBD'),\n",
       " ('him', 'PRP')]"
      ]
     },
     "execution_count": 30,
     "metadata": {},
     "output_type": "execute_result"
    }
   ],
   "source": [
    "gog.tags"
   ]
  },
  {
   "cell_type": "code",
   "execution_count": 31,
   "metadata": {},
   "outputs": [
    {
     "data": {
      "text/plain": [
       "WordList(['Udeme', 'is', 'very', 'naughty', 'that', 'he', 'does', 'not', 'pay', 'attention', 'to', 'the', 'things', 'that', 'will', 'make', 'him', 'a', 'better', 'person'])"
      ]
     },
     "execution_count": 31,
     "metadata": {},
     "output_type": "execute_result"
    }
   ],
   "source": [
    "wiki.words"
   ]
  },
  {
   "cell_type": "code",
   "execution_count": 25,
   "metadata": {},
   "outputs": [
    {
     "data": {
      "text/plain": [
       "0.15249999999999997"
      ]
     },
     "execution_count": 25,
     "metadata": {},
     "output_type": "execute_result"
    }
   ],
   "source": [
    "wiki.sentiment.polarity"
   ]
  },
  {
   "cell_type": "code",
   "execution_count": 26,
   "metadata": {},
   "outputs": [
    {
     "data": {
      "text/plain": [
       "0.5833333333333334"
      ]
     },
     "execution_count": 26,
     "metadata": {},
     "output_type": "execute_result"
    }
   ],
   "source": [
    "gog.sentiment.polarity"
   ]
  },
  {
   "cell_type": "markdown",
   "metadata": {},
   "source": [
    "## Twitter Sentiment Analysis "
   ]
  },
  {
   "cell_type": "code",
   "execution_count": 72,
   "metadata": {},
   "outputs": [],
   "source": [
    "import tweepy\n",
    "from textblob import TextBlob"
   ]
  },
  {
   "cell_type": "code",
   "execution_count": 73,
   "metadata": {},
   "outputs": [],
   "source": [
    "consumer_key = 'consumer_key'\n",
    "consumer_secret = 'consumer_secret'"
   ]
  },
  {
   "cell_type": "code",
   "execution_count": 74,
   "metadata": {},
   "outputs": [],
   "source": [
    "access_token = 'access_token'\n",
    "access_token_secret = 'access_token_secret'"
   ]
  },
  {
   "cell_type": "code",
   "execution_count": 75,
   "metadata": {},
   "outputs": [],
   "source": [
    "auth = tweepy.OAuthHandler(consumer_key, consumer_secret)\n",
    "auth.set_access_token(access_token, access_token_secret)"
   ]
  },
  {
   "cell_type": "code",
   "execution_count": 76,
   "metadata": {},
   "outputs": [],
   "source": [
    "api = tweepy.API(auth)"
   ]
  },
  {
   "cell_type": "code",
   "execution_count": 118,
   "metadata": {},
   "outputs": [],
   "source": [
    "public_tweets = api.search('buhari', lang='en', count=5000)\n",
    "#public_tweets = api.home_timeline()\n",
    "\n",
    "tweet_record = []\n",
    "\n",
    "for tweet in public_tweets:\n",
    "    #print(tweet.text)\n",
    "    analysis = TextBlob(tweet.text)\n",
    "    #print(analysis.sentiment)\n",
    "    #print(analysis.sentiment.polarity)\n",
    "    if analysis.sentiment.polarity > 0.5:\n",
    "        if analysis.sentiment.subjectivity > 0.8:\n",
    "            tweet_record.append([tweet.text, analysis.sentiment.polarity, 'Positive', analysis.sentiment.subjectivity, 'Fact'])\n",
    "        else:\n",
    "            tweet_record.append([tweet.text, analysis.sentiment.polarity, 'Positive', analysis.sentiment.subjectivity, 'Opinion'])\n",
    "    elif analysis.sentiment.polarity == 0.5:\n",
    "        if analysis.sentiment.subjectivity > 0.8:\n",
    "            tweet_record.append([tweet.text, analysis.sentiment.polarity, 'Neutral', analysis.sentiment.subjectivity, 'Fact'])\n",
    "        else:\n",
    "            tweet_record.append([tweet.text, analysis.sentiment.polarity, 'Neutral', analysis.sentiment.subjectivity, 'Opinion'])\n",
    "    else:\n",
    "        if analysis.sentiment.subjectivity > 0.8:\n",
    "            tweet_record.append([tweet.text, analysis.sentiment.polarity, 'Negative', analysis.sentiment.subjectivity, 'Fact'])\n",
    "        else:\n",
    "            tweet_record.append([tweet.text, analysis.sentiment.polarity, 'Negative', analysis.sentiment.subjectivity, 'Opinion'])"
   ]
  },
  {
   "cell_type": "code",
   "execution_count": 119,
   "metadata": {},
   "outputs": [],
   "source": [
    "np_tweet_record = np.array(tweet_record)"
   ]
  },
  {
   "cell_type": "code",
   "execution_count": 120,
   "metadata": {},
   "outputs": [],
   "source": [
    "#print(np_tweet_record)"
   ]
  },
  {
   "cell_type": "code",
   "execution_count": 121,
   "metadata": {},
   "outputs": [],
   "source": [
    "tweet_data = pd.DataFrame(np_tweet_record, index = None, columns = ['Tweets', 'Polarity Score', 'Tweet Sentiment', 'Subjectivity Score', 'Tweet Status'])"
   ]
  },
  {
   "cell_type": "code",
   "execution_count": 122,
   "metadata": {},
   "outputs": [],
   "source": [
    "tweet_data.to_csv('Buhari Tweet Data.csv')\n",
    "#tweet_data.head(50)"
   ]
  },
  {
   "cell_type": "code",
   "execution_count": null,
   "metadata": {},
   "outputs": [],
   "source": []
  }
 ],
 "metadata": {
  "kernelspec": {
   "display_name": "Python 3",
   "language": "python",
   "name": "python3"
  },
  "language_info": {
   "codemirror_mode": {
    "name": "ipython",
    "version": 3
   },
   "file_extension": ".py",
   "mimetype": "text/x-python",
   "name": "python",
   "nbconvert_exporter": "python",
   "pygments_lexer": "ipython3",
   "version": "3.6.5"
  }
 },
 "nbformat": 4,
 "nbformat_minor": 2
}
