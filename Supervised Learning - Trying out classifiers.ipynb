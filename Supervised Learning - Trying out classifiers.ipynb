{
 "cells": [
  {
   "cell_type": "markdown",
   "metadata": {},
   "source": [
    "## Trying out classifiers"
   ]
  },
  {
   "cell_type": "code",
   "execution_count": 15,
   "metadata": {},
   "outputs": [],
   "source": [
    "from sklearn import tree\n",
    "from sklearn import svm\n",
    "from sklearn.neighbors import KNeighborsClassifier\n",
    "from sklearn.naive_bayes import GaussianNB\n",
    "from sklearn.metrics import accuracy_score"
   ]
  },
  {
   "cell_type": "code",
   "execution_count": 21,
   "metadata": {},
   "outputs": [],
   "source": [
    "#train dataset\n",
    "x = [[181, 80, 44], [177, 70, 43], [160, 60, 38], [154, 54, 37], [166, 65, 40], [190, 90, 47], [175, 64, 39],\n",
    "     [177, 70, 40], [159, 55, 37], [171, 75, 42], [181, 85, 43]]\n",
    "\n",
    "y = ['male', 'male', 'female', 'female', 'male', 'male', 'female', 'female', 'female', 'male', 'male']"
   ]
  },
  {
   "cell_type": "code",
   "execution_count": 19,
   "metadata": {},
   "outputs": [],
   "source": [
    "#decision tree classifier\n",
    "clf_tree = tree.DecisionTreeClassifier()\n",
    "\n",
    "#svm classifier\n",
    "clf_svm = svm.SVC()\n",
    "\n",
    "#k nearst neighbor classifier\n",
    "clf_knn = KNeighborsClassifier()\n",
    "\n",
    "#naive bayes classifer\n",
    "clf_naivebayes = GaussianNB()"
   ]
  },
  {
   "cell_type": "code",
   "execution_count": 23,
   "metadata": {},
   "outputs": [
    {
     "data": {
      "text/plain": [
       "GaussianNB(priors=None)"
      ]
     },
     "execution_count": 23,
     "metadata": {},
     "output_type": "execute_result"
    }
   ],
   "source": [
    "#training with different classisifers\n",
    "\n",
    "clf_tree.fit(x,y)\n",
    "\n",
    "clf_svm.fit(x,y)\n",
    "\n",
    "clf_knn.fit(x,y)\n",
    "\n",
    "clf_naivebayes.fit(x,y)"
   ]
  },
  {
   "cell_type": "code",
   "execution_count": 24,
   "metadata": {},
   "outputs": [],
   "source": [
    "#test dataset\n",
    "_x = [[184,84,44],[198,92,48],[183,83,44],[166,47,36],[170,60,38],[172,64,39],[182,80,42],[180,80,43]]\n",
    "\n",
    "_y = ['male','male','male','female','female','female','male','male']"
   ]
  },
  {
   "cell_type": "code",
   "execution_count": 25,
   "metadata": {},
   "outputs": [],
   "source": [
    "#test model with test dataset\n",
    "\n",
    "pred_tree = clf_tree.predict(_x)\n",
    "\n",
    "pred_svm = clf_svm.predict(_x)\n",
    "\n",
    "pred_knn = clf_knn.predict(_x)\n",
    "\n",
    "pred_naivebayes = clf_naivebayes.predict(_x)"
   ]
  },
  {
   "cell_type": "code",
   "execution_count": 39,
   "metadata": {},
   "outputs": [
    {
     "name": "stdout",
     "output_type": "stream",
     "text": [
      "Decision Tree Accuracy: 100%\n",
      "SVM Accuracy: 62%\n",
      "KNN Accuracy: 87%\n",
      "Naive Bayes Accuracy: 100%\n"
     ]
    }
   ],
   "source": [
    "#check accuracy of different models\n",
    "\n",
    "acc_tree = int(accuracy_score(pred_tree, _y) * 100)\n",
    "\n",
    "acc_svm = int(accuracy_score(pred_svm, _y) * 100)\n",
    "\n",
    "acc_knn = int(accuracy_score(pred_knn, _y) * 100)\n",
    "\n",
    "acc_naivebayes = int(accuracy_score(pred_naivebayes, _y) * 100)\n",
    "\n",
    "print('Decision Tree Accuracy: {}%'.format(acc_tree))\n",
    "print('SVM Accuracy: {}%'.format(acc_svm))\n",
    "print('KNN Accuracy: {}%'.format(acc_knn))\n",
    "print('Naive Bayes Accuracy: {}%'.format(acc_naivebayes))"
   ]
  }
 ],
 "metadata": {
  "kernelspec": {
   "display_name": "Python 3",
   "language": "python",
   "name": "python3"
  },
  "language_info": {
   "codemirror_mode": {
    "name": "ipython",
    "version": 3
   },
   "file_extension": ".py",
   "mimetype": "text/x-python",
   "name": "python",
   "nbconvert_exporter": "python",
   "pygments_lexer": "ipython3",
   "version": "3.6.5"
  }
 },
 "nbformat": 4,
 "nbformat_minor": 2
}
