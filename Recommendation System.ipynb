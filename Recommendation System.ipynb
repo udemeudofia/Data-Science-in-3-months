{
 "cells": [
  {
   "cell_type": "markdown",
   "metadata": {},
   "source": [
    "## Recommender Systems 1 "
   ]
  },
  {
   "cell_type": "code",
   "execution_count": 2,
   "metadata": {},
   "outputs": [],
   "source": [
    "import numpy as np\n",
    "from lightfm.datasets import fetch_movielens\n",
    "from lightfm import LightFM"
   ]
  },
  {
   "cell_type": "code",
   "execution_count": 8,
   "metadata": {},
   "outputs": [],
   "source": [
    "#data = fetch_movielens(min_rating=1.0)\n",
    "data = fetch_movielens(min_rating=4.0)"
   ]
  },
  {
   "cell_type": "code",
   "execution_count": 23,
   "metadata": {},
   "outputs": [
    {
     "data": {
      "text/plain": [
       "{'train': <943x1682 sparse matrix of type '<class 'numpy.float32'>'\n",
       " \twith 49906 stored elements in COOrdinate format>,\n",
       " 'test': <943x1682 sparse matrix of type '<class 'numpy.int32'>'\n",
       " \twith 5469 stored elements in COOrdinate format>,\n",
       " 'item_features': <1682x1682 sparse matrix of type '<class 'numpy.float32'>'\n",
       " \twith 1682 stored elements in Compressed Sparse Row format>,\n",
       " 'item_feature_labels': array(['Toy Story (1995)', 'GoldenEye (1995)', 'Four Rooms (1995)', ...,\n",
       "        'Sliding Doors (1998)', 'You So Crazy (1994)',\n",
       "        'Scream of Stone (Schrei aus Stein) (1991)'], dtype=object),\n",
       " 'item_labels': array(['Toy Story (1995)', 'GoldenEye (1995)', 'Four Rooms (1995)', ...,\n",
       "        'Sliding Doors (1998)', 'You So Crazy (1994)',\n",
       "        'Scream of Stone (Schrei aus Stein) (1991)'], dtype=object)}"
      ]
     },
     "execution_count": 23,
     "metadata": {},
     "output_type": "execute_result"
    }
   ],
   "source": [
    "data"
   ]
  },
  {
   "cell_type": "code",
   "execution_count": 24,
   "metadata": {},
   "outputs": [
    {
     "name": "stdout",
     "output_type": "stream",
     "text": [
      "<943x1682 sparse matrix of type '<class 'numpy.float32'>'\n",
      "\twith 49906 stored elements in COOrdinate format>\n",
      "<943x1682 sparse matrix of type '<class 'numpy.int32'>'\n",
      "\twith 5469 stored elements in COOrdinate format>\n"
     ]
    }
   ],
   "source": [
    "print(repr(data['train']))\n",
    "print(repr(data['test']))"
   ]
  },
  {
   "cell_type": "code",
   "execution_count": 25,
   "metadata": {},
   "outputs": [],
   "source": [
    "model = LightFM(loss='warp')\n",
    "#warp means Weighted Approximate-Rank Pairwise. \n",
    "#It is a type of hybrid = collaborative + content"
   ]
  },
  {
   "cell_type": "code",
   "execution_count": 26,
   "metadata": {
    "scrolled": true
   },
   "outputs": [
    {
     "data": {
      "text/plain": [
       "<lightfm.lightfm.LightFM at 0x16f9e3f5668>"
      ]
     },
     "execution_count": 26,
     "metadata": {},
     "output_type": "execute_result"
    }
   ],
   "source": [
    "model.fit(data['train'], epochs=30, num_threads=2)"
   ]
  },
  {
   "cell_type": "code",
   "execution_count": 27,
   "metadata": {},
   "outputs": [
    {
     "name": "stdout",
     "output_type": "stream",
     "text": [
      "User 5\n",
      "        Known Positives\n",
      "             Toy Story (1995)\n",
      "             Babe (1995)\n",
      "             Dead Man Walking (1995)\n",
      "        Recommended Movies\n",
      "             Graduate, The (1967)\n",
      "             Vertigo (1958)\n",
      "             Cinema Paradiso (1988)\n",
      "User 55\n",
      "        Known Positives\n",
      "             Toy Story (1995)\n",
      "             Twelve Monkeys (1995)\n",
      "             Seven (Se7en) (1995)\n",
      "        Recommended Movies\n",
      "             Raiders of the Lost Ark (1981)\n",
      "             Empire Strikes Back, The (1980)\n",
      "             Indiana Jones and the Last Crusade (1989)\n",
      "User 250\n",
      "        Known Positives\n",
      "             Toy Story (1995)\n",
      "             Usual Suspects, The (1995)\n",
      "             Mr. Holland's Opus (1995)\n",
      "        Recommended Movies\n",
      "             Star Wars (1977)\n",
      "             Toy Story (1995)\n",
      "             Return of the Jedi (1983)\n"
     ]
    }
   ],
   "source": [
    "def sample_recommendation(model, data, user_ids):\n",
    "    \n",
    "    #number of users and movies in training data\n",
    "    n_users, n_items = data['train'].shape\n",
    "    \n",
    "    for user_id in user_ids:\n",
    "        #movies they already like\n",
    "        known_positives = data['item_labels'][data['train'].tocsr()[user_id].indices]\n",
    "        \n",
    "        #movies the model predicts they will like\n",
    "        scores = model.predict(user_id, np.arange(n_items))\n",
    "        \n",
    "        #ranking them from most like to least\n",
    "        top_items = data['item_labels'][np.argsort(-scores)]\n",
    "        \n",
    "        print(\"User %s\" % user_id)\n",
    "        print(\"        Known Positives\")\n",
    "        \n",
    "        for movie in known_positives[:3]:\n",
    "            print(\"             %s\" % movie)\n",
    "            \n",
    "        print(\"        Recommended Movies\")\n",
    "        \n",
    "        for movie in top_items[:3]:\n",
    "            print(\"             %s\" % movie)\n",
    "            \n",
    "\n",
    "sample_recommendation(model, data, [5,55,250])"
   ]
  },
  {
   "cell_type": "code",
   "execution_count": 28,
   "metadata": {},
   "outputs": [
    {
     "data": {
      "text/plain": [
       "(943, 1682)"
      ]
     },
     "execution_count": 28,
     "metadata": {},
     "output_type": "execute_result"
    }
   ],
   "source": [
    "data['test'].shape"
   ]
  },
  {
   "cell_type": "code",
   "execution_count": 29,
   "metadata": {},
   "outputs": [
    {
     "name": "stdout",
     "output_type": "stream",
     "text": [
      "User 5\n",
      "['Postino, Il (1994)' 'Taxi Driver (1976)'\n",
      " 'Silence of the Lambs, The (1991)' 'Secret of Roan Inish, The (1994)'\n",
      " 'East of Eden (1955)' 'Manhattan (1979)']\n"
     ]
    }
   ],
   "source": [
    "user_id = 5\n",
    "test_positives = [data['item_labels'][data['test'].tocsr()[user_id].indices]]\n",
    "print(\"User %s\" % user_id)\n",
    "for movie in test_positives[:50]:\n",
    "    print(movie)"
   ]
  },
  {
   "cell_type": "markdown",
   "metadata": {},
   "source": [
    "## Recommender Systems 2"
   ]
  },
  {
   "cell_type": "code",
   "execution_count": 37,
   "metadata": {},
   "outputs": [
    {
     "ename": "ModuleNotFoundError",
     "evalue": "No module named 'fetch_lastfm'",
     "output_type": "error",
     "traceback": [
      "\u001b[1;31m---------------------------------------------------------------------------\u001b[0m",
      "\u001b[1;31mModuleNotFoundError\u001b[0m                       Traceback (most recent call last)",
      "\u001b[1;32m<ipython-input-37-083b48e40532>\u001b[0m in \u001b[0;36m<module>\u001b[1;34m()\u001b[0m\n\u001b[1;32m----> 1\u001b[1;33m \u001b[1;32mfrom\u001b[0m \u001b[0mfetch_lastfm\u001b[0m \u001b[1;32mimport\u001b[0m \u001b[0mfetch_lastfm\u001b[0m\u001b[1;33m\u001b[0m\u001b[0m\n\u001b[0m",
      "\u001b[1;31mModuleNotFoundError\u001b[0m: No module named 'fetch_lastfm'"
     ]
    }
   ],
   "source": [
    "from fetch_lastfm import fetch_lastfm"
   ]
  },
  {
   "cell_type": "code",
   "execution_count": 36,
   "metadata": {},
   "outputs": [
    {
     "data": {
      "text/plain": [
       "module"
      ]
     },
     "execution_count": 36,
     "metadata": {},
     "output_type": "execute_result"
    }
   ],
   "source": [
    "data = fetch_lastfm()\n",
    "\n",
    "model = LightFM(loss='warp')\n",
    "model.fit(data['matrix'], epochs=30, num_threads=2)"
   ]
  },
  {
   "cell_type": "code",
   "execution_count": null,
   "metadata": {},
   "outputs": [],
   "source": [
    "# Get recommendationns function\n",
    "def get_recommendations(model, coo_mtrx, users_ids):\n",
    "\n",
    "    n_items = coo_mtrx.shape[1]\n",
    "\n",
    "    for user in users_ids:\n",
    "\n",
    "        # TODO create known positives\n",
    "        # Artists the model predicts they will like\n",
    "        scores = model.predict(user, np.arange(n_items))\n",
    "        top_scores = np.argsort(-scores)[:3]\n",
    "\n",
    "        print 'Recomendations for user %s:' % user\n",
    "\n",
    "        for x in top_scores.tolist():\n",
    "            for artist, values in data['artists'].iteritems():\n",
    "                if int(x) == values['id']:\n",
    "                    print '   - %s' % values['name']\n",
    "\n",
    "        print '\\n' # Get it pretty\n"
   ]
  },
  {
   "cell_type": "code",
   "execution_count": null,
   "metadata": {},
   "outputs": [],
   "source": [
    "user_1 = raw_input('Select user_1 (0 to %s): ' % data['users'])\n",
    "user_2 = raw_input('Select user_2 (0 to %s): ' % data['users'])\n",
    "user_3 = raw_input('Select user_3 (0 to %s): ' % data['users'])\n",
    "print '\\n' # Get it pretty"
   ]
  },
  {
   "cell_type": "code",
   "execution_count": null,
   "metadata": {},
   "outputs": [],
   "source": [
    "get_recommendations(model, data['matrix'], [user_1, user_2, user_3])"
   ]
  }
 ],
 "metadata": {
  "kernelspec": {
   "display_name": "Python 3",
   "language": "python",
   "name": "python3"
  },
  "language_info": {
   "codemirror_mode": {
    "name": "ipython",
    "version": 3
   },
   "file_extension": ".py",
   "mimetype": "text/x-python",
   "name": "python",
   "nbconvert_exporter": "python",
   "pygments_lexer": "ipython3",
   "version": "3.6.5"
  }
 },
 "nbformat": 4,
 "nbformat_minor": 2
}
